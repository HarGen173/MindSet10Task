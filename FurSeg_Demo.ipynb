{
  "nbformat": 4,
  "nbformat_minor": 0,
  "metadata": {
    "colab": {
      "provenance": []
    },
    "kernelspec": {
      "name": "python3",
      "display_name": "Python 3"
    },
    "language_info": {
      "name": "python"
    }
  },
  "cells": [
    {
      "cell_type": "code",
      "execution_count": 2,
      "metadata": {
        "id": "1jKJSkB_-l-a"
      },
      "outputs": [],
      "source": [
        "import torch\n",
        "import pandas as pd\n",
        "import numpy as np\n",
        "import pytorch_lightning as pl"
      ]
    },
    {
      "cell_type": "code",
      "source": [
        "import pycocotools.coco as coco\n",
        "import pycocotools.mask as cocomask"
      ],
      "metadata": {
        "id": "USJX-aA4AyUK"
      },
      "execution_count": 3,
      "outputs": []
    },
    {
      "cell_type": "code",
      "source": [
        "import cv2\n",
        "from matplotlib import pyplot as plt"
      ],
      "metadata": {
        "id": "2NP_DrzmBsug"
      },
      "execution_count": 4,
      "outputs": []
    },
    {
      "cell_type": "code",
      "source": [
        "import albumentations as albu"
      ],
      "metadata": {
        "id": "RMd1E_7rSZI0"
      },
      "execution_count": 5,
      "outputs": []
    },
    {
      "cell_type": "code",
      "source": [
        "import os\n",
        "import json"
      ],
      "metadata": {
        "id": "D6xghMisity_"
      },
      "execution_count": 6,
      "outputs": []
    },
    {
      "cell_type": "code",
      "source": [
        "from torchvision import datasets\n",
        "from torchvision.io.image import read_image\n",
        "from torchvision.transforms.functional import to_pil_image\n",
        "from torchvision import transforms\n",
        "from torchvision.models.detection import maskrcnn_resnet50_fpn_v2, MaskRCNN_ResNet50_FPN_V2_Weights\n",
        "from torchinfo import summary\n",
        "from torch.utils.data import DataLoader, Dataset\n",
        "import torchvision"
      ],
      "metadata": {
        "id": "LctB-BYWdHbU"
      },
      "execution_count": 7,
      "outputs": []
    },
    {
      "cell_type": "markdown",
      "source": [
        "# **Создание Аннотаций и расширение датасета**"
      ],
      "metadata": {
        "id": "iYETJp0WBNhv"
      }
    },
    {
      "cell_type": "code",
      "source": [
        "transform = albu.Compose(\n",
        "    [\n",
        "        albu.HorizontalFlip(),\n",
        "        albu.RandomBrightnessContrast(),\n",
        "        albu.RandomShadow(),\n",
        "        albu.Rotate(limit=45),\n",
        "        albu.RandomScale()],\n",
        ")"
      ],
      "metadata": {
        "id": "l4XSmHPPuomq"
      },
      "execution_count": null,
      "outputs": []
    },
    {
      "cell_type": "code",
      "source": [
        "def binary_mask_to_rle(binary_mask):\n",
        "    rle = {'counts': [], 'size': list(binary_mask.shape)}\n",
        "    counts = rle.get('counts')\n",
        "\n",
        "    last_elem = 0\n",
        "    running_length = 0\n",
        "\n",
        "    for i, elem in enumerate(binary_mask.ravel(order='F')):\n",
        "        if elem == last_elem:\n",
        "            pass\n",
        "        else:\n",
        "            counts.append(running_length)\n",
        "            running_length = 0\n",
        "            last_elem = elem\n",
        "        running_length += 1\n",
        "\n",
        "    counts.append(running_length)\n",
        "\n",
        "    return rle"
      ],
      "metadata": {
        "id": "3Wvucv7R5YpH"
      },
      "execution_count": null,
      "outputs": []
    },
    {
      "cell_type": "code",
      "source": [
        "def MakeAnnotation(mask, id, image_id, category_id=0, bbox=[]):\n",
        "  annot_dict = {\"id\" : 0, \"image_id\" : 0, \"category_id\" : 0, \"iscrowd\" : 0, \"segmentation\" : {}, \"bbox\": []}\n",
        "  annot_dict[\"id\"] = id\n",
        "  annot_dict[\"image_id\"] = image_id\n",
        "  annot_dict[\"category_id\"] = category_id\n",
        "\n",
        "  #im_bw = np.asfortranarray(mask)\n",
        "  (thresh, im_bw) = cv2.threshold(mask, 128, 255, cv2.THRESH_BINARY | cv2.THRESH_OTSU)\n",
        "  #enc = cocomask.encode(im_bw)\n",
        "  enc = binary_mask_to_rle(im_bw)\n",
        "\n",
        "  enc['counts'] = list(enc['counts'])\n",
        "  annot_dict[\"segmentation\"] = enc\n",
        "  annot_dict[\"bbox\"] = bbox\n",
        "\n",
        "  return annot_dict"
      ],
      "metadata": {
        "id": "4Sgfa_iP6CmV"
      },
      "execution_count": null,
      "outputs": []
    },
    {
      "cell_type": "code",
      "source": [
        "def MakeImageSection(file_name, image_id):\n",
        "  idict = {\"file_name\" : \"\", \"height\" : 512, \"width\" : 512, \"id\" : 0}\n",
        "  idict[\"id\"] = image_id\n",
        "  idict[\"file_name\"] = file_name\n",
        "\n",
        "  return idict"
      ],
      "metadata": {
        "id": "mwjgtLBw8PsW"
      },
      "execution_count": null,
      "outputs": []
    },
    {
      "cell_type": "code",
      "source": [
        "dir_path = \"./Dataset/Main/\"\n",
        "dir_path_masks = \"./Dataset/Masks/\"\n",
        "output_path = \"./Dataset/Output/data/\"\n",
        "\n",
        "images_dlist = []\n",
        "annots_dlist = []\n",
        "\n",
        "for k, path in enumerate(os.listdir(dir_path)):\n",
        "  image = cv2.imread(dir_path + path)\n",
        "  #image = cv2.cvtColor(image, cv2.COLOR_BGR2RGB)\n",
        "  masks = []\n",
        "  classes = []\n",
        "\n",
        "  for dir in os.listdir(dir_path_masks):\n",
        "    mask = cv2.imread(dir_path_masks + dir + \"/\" + path, cv2.IMREAD_GRAYSCALE)\n",
        "    avg_color_per_row = np.average(mask, axis=0)\n",
        "    avg_color = np.average(avg_color_per_row, axis=0)\n",
        "    if (avg_color >= 0.5):\n",
        "      masks.append(mask)\n",
        "      cl = \"\"\n",
        "      if (\"Chair\" in dir):\n",
        "        cl = \"chair\"\n",
        "      else:\n",
        "        cl = \"table\"\n",
        "      classes.append(cl)\n",
        "\n",
        "  if (len(classes) == 0):\n",
        "    continue\n",
        "\n",
        "  file_name = str(k) + \".jpg\"\n",
        "\n",
        "  cv2.imwrite(output_path + file_name, image)\n",
        "\n",
        "  image_id = k*10000\n",
        "\n",
        "  images_dlist.append(MakeImageSection(file_name, image_id))\n",
        "\n",
        "  for i, x in enumerate(masks):\n",
        "    a = list(cv2.boundingRect(x))\n",
        "    annots_dlist.append(MakeAnnotation(x, image_id + i, image_id, 1 if classes[i] == \"chair\" else 2, a))\n",
        "\n",
        "  for i in range(15):\n",
        "    i += 1\n",
        "    transformed = transform(image=image, masks=masks)\n",
        "    img = transformed[\"image\"]\n",
        "    file_n = str(k) + \"_\" + str(i) + \".jpg\"\n",
        "    id = image_id + i*100\n",
        "    cv2.imwrite(output_path + file_n, img)\n",
        "\n",
        "    images_dlist.append(MakeImageSection(file_n, id))\n",
        "\n",
        "    for j, x in enumerate(masks):\n",
        "      a = list(cv2.boundingRect(x))\n",
        "      annots_dlist.append(MakeAnnotation(x, id + j, id, 1 if classes[j] == \"chair\" else 2, a))"
      ],
      "metadata": {
        "id": "covlC7pUi10j"
      },
      "execution_count": null,
      "outputs": []
    },
    {
      "cell_type": "code",
      "source": [
        "cocojson = {\"images\" : images_dlist, \"annotations\" : annots_dlist, \"categories\": [{\"supercategory\": \"furniture\", \"id\" : 1, \"name\": \"chair\"}, {\"supercategory\": \"furniture\", \"id\" : 2, \"name\": \"table\"}]}\n",
        "\n",
        "with open(\"./Dataset/Output/annot.json\", \"w\") as outfile:\n",
        "    json.dump(cocojson, outfile)"
      ],
      "metadata": {
        "id": "R72KcMu3nr6p"
      },
      "execution_count": null,
      "outputs": []
    },
    {
      "cell_type": "markdown",
      "source": [
        "# Модель"
      ],
      "metadata": {
        "id": "uspztHgR-3jH"
      }
    },
    {
      "cell_type": "code",
      "source": [
        "class CocoWrapper(Dataset):\n",
        "    def __init__(self):\n",
        "        dataset_path = \"./Dataset/Output/\"\n",
        "        self.dataset = datasets.CocoDetection(root=dataset_path + \"data/\", annFile=dataset_path+\"annot.json\")\n",
        "\n",
        "        self.dataset = datasets.wrap_dataset_for_transforms_v2(self.dataset)\n",
        "\n",
        "    def __len__(self):\n",
        "        return self.dataset.__len__()\n",
        "\n",
        "    def __getitem__(self, idx):\n",
        "        img = self.dataset[idx][0]\n",
        "        data = self.dataset[idx][1]\n",
        "        boxes = data[\"boxes\"]\n",
        "        masks = data[\"masks\"]\n",
        "        labels = data[\"labels\"]\n",
        "        tr = transforms.ToTensor()\n",
        "        d = {\"boxes\" : boxes, \"masks\": masks, \"labels\": labels}\n",
        "        img = tr(img)\n",
        "\n",
        "        return img, d"
      ],
      "metadata": {
        "id": "_b-qDlKJSZJr"
      },
      "execution_count": 8,
      "outputs": []
    },
    {
      "cell_type": "code",
      "source": [
        "def clamp(num, min_value, max_value):\n",
        "   return max(min(num, max_value), min_value)\n",
        "\n",
        "class CustomLoader(object):\n",
        "\n",
        "    def __init__(self, dataset, my_bsz, drop_last=False):\n",
        "        self.ds = dataset\n",
        "        self.my_bsz = my_bsz\n",
        "        self.drop_last = drop_last\n",
        "        self.num = 0\n",
        "        self.dslen = len(self.ds)\n",
        "\n",
        "    def __iter__(self):\n",
        "        return self\n",
        "\n",
        "    def __next__(self):\n",
        "        if self.num*self.my_bsz > self.dslen:\n",
        "            self.num = 0\n",
        "            raise StopIteration\n",
        "        f = clamp(self.num*self.my_bsz, 0, self.dslen)\n",
        "        l = clamp(self.num*self.my_bsz + self.my_bsz, 0, self.dslen)\n",
        "        img_batch = []\n",
        "        data_batch = []\n",
        "        for i in range(f, l):\n",
        "          x = self.ds[i]\n",
        "          img_batch.append(x[0])\n",
        "          data_batch.append(x[1])\n",
        "        self.num += 1\n",
        "        return img_batch, data_batch"
      ],
      "metadata": {
        "id": "AZGE18OSnHkD"
      },
      "execution_count": 9,
      "outputs": []
    },
    {
      "cell_type": "code",
      "source": [
        "class FurSeg(pl.LightningModule):\n",
        "    def __init__(self, batch_size, thres=0.5):\n",
        "        super().__init__()\n",
        "        self.batch_size = batch_size\n",
        "        self.loss_list = []\n",
        "        self.avg_loss_stats = []\n",
        "        self.thres = thres\n",
        "        self.TP = 0\n",
        "        self.FP = 0\n",
        "        self.FN = 0\n",
        "        self.weights = MaskRCNN_ResNet50_FPN_V2_Weights.COCO_V1\n",
        "        self.MaskRCNN = maskrcnn_resnet50_fpn_v2(weights=self.weights)\n",
        "\n",
        "        for param in self.MaskRCNN.parameters():\n",
        "          param.requires_grad = False\n",
        "\n",
        "        self.MaskRCNN.roi_heads.box_predictor.cls_score = torch.nn.Linear(in_features=1024, out_features=3, bias=True)\n",
        "\n",
        "        ds = CocoWrapper()\n",
        "\n",
        "        self.train_set, self.val_set = torch.utils.data.random_split(ds, [0.8, 0.2])\n",
        "\n",
        "    def forward(self, x):\n",
        "        return self.MaskRCNN(x)\n",
        "\n",
        "    def training_step(self, batch, batch_idx):\n",
        "        images, targets = batch\n",
        "        self.MaskRCNN.train()\n",
        "        loss_dict = self.MaskRCNN(images, targets)\n",
        "        losses = sum(loss for loss in loss_dict.values())\n",
        "        #print(losses, \"train loss on batch #\", batch_idx)\n",
        "        self.loss_list.append(losses)\n",
        "        return {\"loss\": losses}\n",
        "\n",
        "    def test_step(self, batch, batch_idx):\n",
        "        images, targets = batch\n",
        "        self.MaskRCNN.eval()\n",
        "        res = self.MaskRCNN(images)\n",
        "\n",
        "        for i, im in enumerate(images):\n",
        "          true_boxes = targets[i][\"boxes\"]\n",
        "          pred_boxes = res[i][\"boxes\"]\n",
        "          true_labels = targets[i][\"labels\"]\n",
        "          pred_labels = res[i][\"labels\"]\n",
        "\n",
        "          iou = torchvision.ops.box_iou(true_boxes, pred_boxes)\n",
        "\n",
        "          for true_index, boxs in enumerate(iou):\n",
        "            for pred_index, value in enumerate(boxs):\n",
        "              if value > self.thres:\n",
        "                if true_labels[true_index] == pred_labels[pred_index]:\n",
        "                  self.TP += 1\n",
        "              elif value == 0:\n",
        "                self.FN += 1\n",
        "              else:\n",
        "                if true_labels[true_index] == pred_labels[pred_index]:\n",
        "                  self.FP += 1\n",
        "\n",
        "    def compute_metrics(self):\n",
        "        if (self.TP + self.FP) == 0 or (self.TP + self.FN) == 0:\n",
        "          return 0, 0\n",
        "        prec = self.TP/(self.TP + self.FP)\n",
        "        rec = self.TP/(self.TP + self.FN)\n",
        "        return prec, rec\n",
        "\n",
        "    def on_train_epoch_end(self):\n",
        "        avg_loss = torch.stack(self.loss_list).mean()\n",
        "        print(\"EPOCH END\", avg_loss, \"- average loss\")\n",
        "        self.loss_list.clear()\n",
        "        self.avg_loss_stats.append(avg_loss)\n",
        "\n",
        "    def configure_optimizers(self):\n",
        "        optimizer = torch.optim.Adam(self.parameters(), lr=1e-3)\n",
        "        return optimizer\n",
        "\n",
        "    def train_dataloader(self):\n",
        "        train_loader = CustomLoader(self.train_set, self.batch_size)\n",
        "        return train_loader\n",
        "\n",
        "    def test_dataloader(self):\n",
        "        test_loader = CustomLoader(self.val_set, self.batch_size)\n",
        "        return test_loader\n"
      ],
      "metadata": {
        "id": "cCUvaH7EeAU2"
      },
      "execution_count": 10,
      "outputs": []
    },
    {
      "cell_type": "code",
      "source": [
        "model = FurSeg(batch_size=12)"
      ],
      "metadata": {
        "id": "6ZSnxhmDiTp6"
      },
      "execution_count": null,
      "outputs": []
    },
    {
      "cell_type": "code",
      "source": [
        "trainer = pl.Trainer(max_epochs=15, accelerator=\"gpu\")"
      ],
      "metadata": {
        "id": "5OAiP2SuhWhS"
      },
      "execution_count": null,
      "outputs": []
    },
    {
      "cell_type": "markdown",
      "source": [
        "# **Тренировка**"
      ],
      "metadata": {
        "id": "i0fJefaSDQBO"
      }
    },
    {
      "cell_type": "code",
      "source": [
        "trainer.fit(model)"
      ],
      "metadata": {
        "id": "f_W-OwvegCYX"
      },
      "execution_count": null,
      "outputs": []
    },
    {
      "cell_type": "markdown",
      "source": [
        "# **Тестирование**"
      ],
      "metadata": {
        "id": "u8i2Wk9nc_7c"
      }
    },
    {
      "cell_type": "code",
      "source": [
        "trainer.test(model)"
      ],
      "metadata": {
        "id": "X_omzCiIF0D-"
      },
      "execution_count": null,
      "outputs": []
    },
    {
      "cell_type": "code",
      "source": [
        "print(model.compute_metrics())"
      ],
      "metadata": {
        "id": "as2IHrU4gBWM"
      },
      "execution_count": null,
      "outputs": []
    },
    {
      "cell_type": "code",
      "source": [
        "img = cv2.imread(\"./Refs/chair2.jpg\")\n",
        "tr = transforms.ToTensor()\n",
        "img = tr(img)\n",
        "model.MaskRCNN.eval()\n",
        "res = model([img])"
      ],
      "metadata": {
        "id": "wsRlzTQ5k-Hr"
      },
      "execution_count": 13,
      "outputs": []
    },
    {
      "cell_type": "code",
      "source": [
        "plt.imshow(to_pil_image(res[0][\"masks\"][0]))"
      ],
      "metadata": {
        "colab": {
          "base_uri": "https://localhost:8080/",
          "height": 286
        },
        "id": "TVmnKe9_mnIm",
        "outputId": "eaf5070b-4ce1-4eb9-f9e5-7d6037da12fa"
      },
      "execution_count": 19,
      "outputs": [
        {
          "output_type": "execute_result",
          "data": {
            "text/plain": [
              "<matplotlib.image.AxesImage at 0x1ff04204700>"
            ]
          },
          "metadata": {},
          "execution_count": 19
        },
        {
          "output_type": "display_data",
          "data": {
            "text/plain": [
              "<Figure size 432x288 with 1 Axes>"
            ],
            "image/png": "[encoded data removed]"
          },
          "metadata": {
            "needs_background": "light"
          }
        }
      ]
    }
  ]
}